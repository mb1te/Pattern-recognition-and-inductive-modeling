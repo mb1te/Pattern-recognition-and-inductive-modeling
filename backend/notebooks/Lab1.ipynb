{
 "cells": [
  {
   "cell_type": "code",
   "execution_count": 1,
   "metadata": {
    "collapsed": true,
    "ExecuteTime": {
     "end_time": "2023-05-27T10:48:11.939231400Z",
     "start_time": "2023-05-27T10:48:09.721184700Z"
    }
   },
   "outputs": [],
   "source": [
    "import warnings\n",
    "from sklearn.exceptions import ConvergenceWarning\n",
    "\n",
    "warnings.filterwarnings(\"ignore\")\n",
    "warnings.filterwarnings(\"ignore\", category=ConvergenceWarning)"
   ]
  },
  {
   "cell_type": "code",
   "execution_count": 2,
   "outputs": [],
   "source": [
    "from abc import ABC, abstractmethod\n",
    "\n",
    "import numpy as np\n",
    "from sklearn.metrics import f1_score, make_scorer\n",
    "\n",
    "\n",
    "class BestModelDetector(ABC):\n",
    "    scorer = make_scorer(f1_score, average='weighted')\n",
    "    X = None\n",
    "    y = None\n",
    "    clf = None\n",
    "\n",
    "    @abstractmethod\n",
    "    def fit(self, X: np.ndarray, y: np.ndarray) -> None:\n",
    "        ...\n",
    "\n",
    "    @abstractmethod\n",
    "    def predict(self, X: np.ndarray) -> np.ndarray:\n",
    "        ...\n",
    "\n",
    "    @abstractmethod\n",
    "    def print_best_model_info(self):\n",
    "        ...\n"
   ],
   "metadata": {
    "collapsed": false,
    "ExecuteTime": {
     "end_time": "2023-05-27T10:48:17.262394700Z",
     "start_time": "2023-05-27T10:48:17.118533800Z"
    }
   }
  },
  {
   "cell_type": "markdown",
   "source": [
    "**Датасет**\n",
    "\n",
    "*Признаки*:\n",
    "\n",
    "1 - фиксированная кислотность\\\n",
    "2 - летучая кислотность\\\n",
    "3 - лимонная кислота\\\n",
    "4 - остаточный сахар\\\n",
    "5 - хлориды\\\n",
    "6 - свободный диоксид серы\\\n",
    "7 - общий диоксид серы\\\n",
    "8 - плотность\\\n",
    "9 - pH\\\n",
    "10 - сульфаты\\\n",
    "11 - алкоголь\n",
    "\n",
    "*Результат*:\\\n",
    "Качество (int от 0 до 2)"
   ],
   "metadata": {
    "collapsed": false
   }
  },
  {
   "cell_type": "markdown",
   "source": [
    "Пример данных:"
   ],
   "metadata": {
    "collapsed": false
   }
  },
  {
   "cell_type": "code",
   "execution_count": 3,
   "outputs": [
    {
     "data": {
      "text/plain": "   alcohol  malic_acid   ash  alcalinity_of_ash  magnesium  total_phenols   \n0    14.23        1.71  2.43               15.6      127.0           2.80  \\\n1    13.20        1.78  2.14               11.2      100.0           2.65   \n2    13.16        2.36  2.67               18.6      101.0           2.80   \n3    14.37        1.95  2.50               16.8      113.0           3.85   \n4    13.24        2.59  2.87               21.0      118.0           2.80   \n\n   flavanoids  nonflavanoid_phenols  proanthocyanins  color_intensity   hue   \n0        3.06                  0.28             2.29             5.64  1.04  \\\n1        2.76                  0.26             1.28             4.38  1.05   \n2        3.24                  0.30             2.81             5.68  1.03   \n3        3.49                  0.24             2.18             7.80  0.86   \n4        2.69                  0.39             1.82             4.32  1.04   \n\n   od280/od315_of_diluted_wines  proline  target  \n0                          3.92   1065.0     0.0  \n1                          3.40   1050.0     0.0  \n2                          3.17   1185.0     0.0  \n3                          3.45   1480.0     0.0  \n4                          2.93    735.0     0.0  ",
      "text/html": "<div>\n<style scoped>\n    .dataframe tbody tr th:only-of-type {\n        vertical-align: middle;\n    }\n\n    .dataframe tbody tr th {\n        vertical-align: top;\n    }\n\n    .dataframe thead th {\n        text-align: right;\n    }\n</style>\n<table border=\"1\" class=\"dataframe\">\n  <thead>\n    <tr style=\"text-align: right;\">\n      <th></th>\n      <th>alcohol</th>\n      <th>malic_acid</th>\n      <th>ash</th>\n      <th>alcalinity_of_ash</th>\n      <th>magnesium</th>\n      <th>total_phenols</th>\n      <th>flavanoids</th>\n      <th>nonflavanoid_phenols</th>\n      <th>proanthocyanins</th>\n      <th>color_intensity</th>\n      <th>hue</th>\n      <th>od280/od315_of_diluted_wines</th>\n      <th>proline</th>\n      <th>target</th>\n    </tr>\n  </thead>\n  <tbody>\n    <tr>\n      <th>0</th>\n      <td>14.23</td>\n      <td>1.71</td>\n      <td>2.43</td>\n      <td>15.6</td>\n      <td>127.0</td>\n      <td>2.80</td>\n      <td>3.06</td>\n      <td>0.28</td>\n      <td>2.29</td>\n      <td>5.64</td>\n      <td>1.04</td>\n      <td>3.92</td>\n      <td>1065.0</td>\n      <td>0.0</td>\n    </tr>\n    <tr>\n      <th>1</th>\n      <td>13.20</td>\n      <td>1.78</td>\n      <td>2.14</td>\n      <td>11.2</td>\n      <td>100.0</td>\n      <td>2.65</td>\n      <td>2.76</td>\n      <td>0.26</td>\n      <td>1.28</td>\n      <td>4.38</td>\n      <td>1.05</td>\n      <td>3.40</td>\n      <td>1050.0</td>\n      <td>0.0</td>\n    </tr>\n    <tr>\n      <th>2</th>\n      <td>13.16</td>\n      <td>2.36</td>\n      <td>2.67</td>\n      <td>18.6</td>\n      <td>101.0</td>\n      <td>2.80</td>\n      <td>3.24</td>\n      <td>0.30</td>\n      <td>2.81</td>\n      <td>5.68</td>\n      <td>1.03</td>\n      <td>3.17</td>\n      <td>1185.0</td>\n      <td>0.0</td>\n    </tr>\n    <tr>\n      <th>3</th>\n      <td>14.37</td>\n      <td>1.95</td>\n      <td>2.50</td>\n      <td>16.8</td>\n      <td>113.0</td>\n      <td>3.85</td>\n      <td>3.49</td>\n      <td>0.24</td>\n      <td>2.18</td>\n      <td>7.80</td>\n      <td>0.86</td>\n      <td>3.45</td>\n      <td>1480.0</td>\n      <td>0.0</td>\n    </tr>\n    <tr>\n      <th>4</th>\n      <td>13.24</td>\n      <td>2.59</td>\n      <td>2.87</td>\n      <td>21.0</td>\n      <td>118.0</td>\n      <td>2.80</td>\n      <td>2.69</td>\n      <td>0.39</td>\n      <td>1.82</td>\n      <td>4.32</td>\n      <td>1.04</td>\n      <td>2.93</td>\n      <td>735.0</td>\n      <td>0.0</td>\n    </tr>\n  </tbody>\n</table>\n</div>"
     },
     "execution_count": 3,
     "metadata": {},
     "output_type": "execute_result"
    }
   ],
   "source": [
    "from sklearn.datasets import load_wine\n",
    "import pandas as pd\n",
    "import numpy as np\n",
    "\n",
    "wine = load_wine()\n",
    "df = pd.DataFrame(\n",
    "    data=np.c_[wine['data'], wine['target']],\n",
    "    columns=wine['feature_names'] + ['target']\n",
    ")\n",
    "df.head()"
   ],
   "metadata": {
    "collapsed": false,
    "ExecuteTime": {
     "end_time": "2023-05-27T10:48:21.574207600Z",
     "start_time": "2023-05-27T10:48:19.954156Z"
    }
   }
  },
  {
   "cell_type": "markdown",
   "source": [
    "Делим на train, test, val"
   ],
   "metadata": {
    "collapsed": false
   }
  },
  {
   "cell_type": "code",
   "execution_count": 4,
   "outputs": [],
   "source": [
    "from sklearn.model_selection import train_test_split\n",
    "\n",
    "X_train_full, X_test, y_train_full, y_test = train_test_split(wine.data, wine.target, train_size=0.8)\n",
    "X_train, X_val, y_train, y_val = train_test_split(X_train_full, y_train_full, train_size=0.8)"
   ],
   "metadata": {
    "collapsed": false,
    "ExecuteTime": {
     "end_time": "2023-05-27T10:48:23.170004Z",
     "start_time": "2023-05-27T10:48:23.138317300Z"
    }
   }
  },
  {
   "cell_type": "markdown",
   "source": [
    "Пайплан и f1-score для TPOT:"
   ],
   "metadata": {
    "collapsed": false
   }
  },
  {
   "cell_type": "code",
   "execution_count": 5,
   "outputs": [],
   "source": [
    "import numpy as np\n",
    "from tpot import TPOTClassifier\n",
    "\n",
    "\n",
    "class TPOTDetector(BestModelDetector):\n",
    "    def fit(self, X: np.ndarray, y: np.ndarray) -> None:\n",
    "        self.X = X\n",
    "        self.y = y\n",
    "        self.clf = TPOTClassifier(\n",
    "            generations=5,\n",
    "            population_size=20,\n",
    "            verbosity=2,\n",
    "            scoring=self.scorer,\n",
    "        )\n",
    "\n",
    "        self.clf.fit(X, y)\n",
    "\n",
    "    def predict(self, X: np.ndarray) -> np.ndarray:\n",
    "        return self.clf.predict(X)\n",
    "\n",
    "    def print_best_model_info(self):\n",
    "        return self.clf.fitted_pipeline_\n"
   ],
   "metadata": {
    "collapsed": false,
    "ExecuteTime": {
     "end_time": "2023-05-27T10:48:27.459084500Z",
     "start_time": "2023-05-27T10:48:26.618427400Z"
    }
   }
  },
  {
   "cell_type": "code",
   "execution_count": 7,
   "outputs": [
    {
     "name": "stderr",
     "output_type": "stream",
     "text": [
      "Version 0.11.7 of tpot is outdated. Version 0.12.0 was released 1 day ago.\n"
     ]
    },
    {
     "data": {
      "text/plain": "Optimization Progress:   0%|          | 0/120 [00:00<?, ?pipeline/s]",
      "application/vnd.jupyter.widget-view+json": {
       "version_major": 2,
       "version_minor": 0,
       "model_id": "198d741e46774cf28faec07326352f67"
      }
     },
     "metadata": {},
     "output_type": "display_data"
    },
    {
     "name": "stdout",
     "output_type": "stream",
     "text": [
      "\n",
      "Generation 1 - Current best internal CV score: 0.9715079365079365\n",
      "\n",
      "Generation 2 - Current best internal CV score: 0.9715079365079365\n",
      "\n",
      "Generation 3 - Current best internal CV score: 0.9782952128219708\n",
      "\n",
      "Generation 4 - Current best internal CV score: 0.9782952128219708\n",
      "\n",
      "Generation 5 - Current best internal CV score: 0.9782952128219708\n",
      "\n",
      "Best pipeline: ExtraTreesClassifier(input_matrix, bootstrap=False, criterion=entropy, max_features=0.55, min_samples_leaf=2, min_samples_split=11, n_estimators=100)\n"
     ]
    },
    {
     "data": {
      "text/plain": "1.0"
     },
     "execution_count": 7,
     "metadata": {},
     "output_type": "execute_result"
    }
   ],
   "source": [
    "tpot_clf = TPOTDetector()\n",
    "tpot_clf.fit(X_train_full, y_train_full)\n",
    "tpot_predicted = tpot_clf.predict(X_test)\n",
    "f1_score(y_test, tpot_predicted, average=\"weighted\")"
   ],
   "metadata": {
    "collapsed": false,
    "ExecuteTime": {
     "end_time": "2023-05-27T10:53:05.714978100Z",
     "start_time": "2023-05-27T10:51:14.830477700Z"
    }
   }
  },
  {
   "cell_type": "markdown",
   "source": [
    "Напишем свою модель.\n",
    "В качестве моделей будем использовать случайные леса, градиентный бустинг и многослойный перцептрон.\n",
    "Для настройки параметров будем использовать Grid Search"
   ],
   "metadata": {
    "collapsed": false
   }
  },
  {
   "cell_type": "code",
   "execution_count": 8,
   "outputs": [],
   "source": [
    "import itertools\n",
    "\n",
    "from sklearn.ensemble import GradientBoostingClassifier, RandomForestClassifier\n",
    "from sklearn.metrics import f1_score, make_scorer\n",
    "from sklearn.model_selection import cross_val_score\n",
    "from sklearn.neural_network import MLPClassifier\n",
    "\n",
    "class PurePythonModelDetector(BestModelDetector):\n",
    "    def __init__(self) -> None:\n",
    "        self.models = {\n",
    "            \"random_forest\": RandomForestClassifier(),\n",
    "            \"gradient_boosting\": GradientBoostingClassifier(),\n",
    "            \"mlp\": MLPClassifier(),\n",
    "        }\n",
    "\n",
    "        self.param_space = {\n",
    "            \"random_forest\": {\n",
    "                \"n_estimators\": (5, 10, 25, 50, 100, 200),\n",
    "                \"max_depth\": (1, 2, 3, 5, 10, 20),\n",
    "            },\n",
    "            \"gradient_boosting\": {\n",
    "                \"n_estimators\": (5, 10, 25, 50, 100, 200),\n",
    "                \"learning_rate\": (0.001, 0.01, 0.05, 0.1, 0.2),\n",
    "            },\n",
    "            \"mlp\": {\n",
    "                \"hidden_layer_sizes\": (1, 5, 10, 25, 50, 100, 200, 500, 1000),\n",
    "                \"alpha\": (0.0001, 0.001, 0.005, 0.01, 0.05, 0.1, 0.2),\n",
    "            },\n",
    "        }\n",
    "        self.best_params = {}\n",
    "        self.best_score = 0\n",
    "        self.best_model = None\n",
    "\n",
    "    def grid_search(self, model_name: str, space: dict, X: np.ndarray, y: np.ndarray) -> None:\n",
    "        model = self.models[model_name]\n",
    "        best_score = 0\n",
    "        best_params = None\n",
    "\n",
    "        for params in itertools.product(*space.values()):\n",
    "            params_dict = dict(zip(space.keys(), params))\n",
    "            model.set_params(**params_dict)\n",
    "\n",
    "            scorer = make_scorer(f1_score, average=\"weighted\")\n",
    "            score = np.mean(cross_val_score(model, X, y, cv=5, scoring=scorer))\n",
    "            if score > best_score:\n",
    "                best_score = score\n",
    "                best_params = params_dict\n",
    "\n",
    "        self.best_params[model_name] = best_params\n",
    "        model.set_params(**best_params)\n",
    "        model.fit(X, y)\n",
    "\n",
    "        if best_score > self.best_score:\n",
    "            self.best_score = best_score\n",
    "            self.best_model = model_name\n",
    "\n",
    "    def fit(self, X: np.ndarray, y: np.ndarray) -> None:\n",
    "        for model_name in self.models.keys():\n",
    "            space = self.param_space[model_name]\n",
    "            self.grid_search(model_name, space, X, y)\n",
    "\n",
    "    def print_best_model_info(self) -> None:\n",
    "        print(\n",
    "            \"model\",\n",
    "            self.best_model,\n",
    "            \"params\",\n",
    "            self.best_params[self.best_model],\n",
    "            \"train_f1\",\n",
    "            self.best_score,\n",
    "        )\n",
    "\n",
    "    def predict(self, X: np.ndarray) -> np.ndarray:\n",
    "        return self.models[self.best_model].predict(X)\n"
   ],
   "metadata": {
    "collapsed": false,
    "ExecuteTime": {
     "end_time": "2023-05-28T08:25:45.053769200Z",
     "start_time": "2023-05-28T08:25:44.949041Z"
    }
   }
  },
  {
   "cell_type": "code",
   "execution_count": 11,
   "outputs": [
    {
     "name": "stdout",
     "output_type": "stream",
     "text": [
      "model random_forest params {'n_estimators': 200, 'max_depth': 5} train_f1 0.9711917047520762\n",
      "f1 test 1.0\n",
      "CPU times: user 1min 36s, sys: 0 ns, total: 1min 36s\n",
      "Wall time: 1min 36s\n"
     ]
    }
   ],
   "source": [
    "%%time\n",
    "\n",
    "my_automl = PurePythonModelDetector()\n",
    "my_automl.fit(X_train_full, y_train_full)\n",
    "my_automl.print_best_model_info()\n",
    "pred = my_automl.predict(X_test)\n",
    "print(\"f1 test\", f1_score(y_test, pred, average='weighted'))"
   ],
   "metadata": {
    "collapsed": false,
    "ExecuteTime": {
     "end_time": "2023-05-28T08:36:57.399184900Z",
     "start_time": "2023-05-28T08:35:21.049285800Z"
    }
   }
  },
  {
   "cell_type": "code",
   "execution_count": null,
   "outputs": [],
   "source": [],
   "metadata": {
    "collapsed": false
   }
  }
 ],
 "metadata": {
  "kernelspec": {
   "display_name": "Python 3",
   "language": "python",
   "name": "python3"
  },
  "language_info": {
   "codemirror_mode": {
    "name": "ipython",
    "version": 2
   },
   "file_extension": ".py",
   "mimetype": "text/x-python",
   "name": "python",
   "nbconvert_exporter": "python",
   "pygments_lexer": "ipython2",
   "version": "2.7.6"
  }
 },
 "nbformat": 4,
 "nbformat_minor": 0
}
